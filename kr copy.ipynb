{
 "cells": [
  {
   "cell_type": "code",
   "execution_count": 32,
   "metadata": {},
   "outputs": [
    {
     "name": "stdout",
     "output_type": "stream",
     "text": [
      "830 730\n"
     ]
    }
   ],
   "source": [
    "\n",
    "import random\n",
    "import torch\n",
    "\n",
    "\n",
    "class lhj ():\n",
    "\n",
    "    def __init__(self,means) -> None:\n",
    "        self.means = means\n",
    "        \n",
    "\n",
    "        # 初始化游戏过程\n",
    "        self.value= 999\n",
    "        self.time = 1\n",
    "        \n",
    "\n",
    "    def update_value(self,new_money):\n",
    "        old_v =self.value\n",
    "        new_v =( old_v * self.time + new_money ) / (self.time+1)\n",
    "        \n",
    "        \n",
    "        self.value= new_v\n",
    "        self.time+=1\n",
    "\n",
    "\n",
    "    def pop(self):\n",
    "        means = self.means\n",
    "        std = 30\n",
    "        new_money = torch.normal(means,std,(1,1))\n",
    "        \n",
    "        self.update_value(new_money)\n",
    "        # return x\n",
    "\n",
    "class two_arm():\n",
    "\n",
    "    # def update(lhj_x,new_money,time):\n",
    "\n",
    "\n",
    "    \n",
    "    def main(self):\n",
    "        means_a = random.randint(2**9,2**10-1)\n",
    "        # means_b = random.randint(2**9,2**10-1)\n",
    "        means_b = means_a -100\n",
    "\n",
    "        print(means_a,means_b)\n",
    "\n",
    "        # print(a)\n",
    "        lhj_a = lhj(means_a)\n",
    "        lhj_b = lhj(means_b)\n",
    "        # money = lhj_a.pop()\n",
    "        # print(money)\n",
    "\n",
    "        # self.value_a = 999\n",
    "        # self.value_b = 999\n",
    "\n",
    "        # self.time_a = 1\n",
    "        # self.time_b = 1\n",
    "\n",
    "        p = 0.9 # 这个概率访问最大价值的老虎机，1-p 的概率临幸其它老虎机\n",
    "\n",
    "\n",
    "\n",
    "a = two_arm()\n",
    "a.main()\n"
   ]
  }
 ],
 "metadata": {
  "kernelspec": {
   "display_name": "python39",
   "language": "python",
   "name": "python3"
  },
  "language_info": {
   "codemirror_mode": {
    "name": "ipython",
    "version": 3
   },
   "file_extension": ".py",
   "mimetype": "text/x-python",
   "name": "python",
   "nbconvert_exporter": "python",
   "pygments_lexer": "ipython3",
   "version": "3.9.16"
  },
  "orig_nbformat": 4
 },
 "nbformat": 4,
 "nbformat_minor": 2
}
